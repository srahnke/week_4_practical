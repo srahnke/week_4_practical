{
 "cells": [
  {
   "cell_type": "markdown",
   "id": "2612a45e",
   "metadata": {},
   "source": [
    "### Instructions:\n",
    "\n",
    "1. Import all the libraries you need in the cell below\n",
    "2. Create as many cells as needed to answer a question\n",
    "  * Group code that is logically related in the same cell\n",
    "  * Keep cells relatively small\n",
    "  * Format long statements or expressions, including `ggplot`, across multiple lines\n",
    "3. Submit your work to Github\n",
    "  * Folder should be called `week_4_practical`\n",
    "  * This file should be called `week_4_solution.ipynb`\n",
    "    "
   ]
  },
  {
   "cell_type": "code",
   "execution_count": 2,
   "id": "320472a2",
   "metadata": {},
   "outputs": [
    {
     "name": "stderr",
     "output_type": "stream",
     "text": [
      "Registered S3 method overwritten by 'rvest':\n",
      "  method            from\n",
      "  read_xml.response xml2\n",
      "── Attaching packages ─────────────────────────────────────── tidyverse 1.2.1 ──\n",
      "✔ tibble  2.1.1       ✔ purrr   0.3.2  \n",
      "✔ tidyr   0.8.3       ✔ dplyr   0.8.0.1\n",
      "✔ readr   1.3.1       ✔ stringr 1.4.0  \n",
      "✔ tibble  2.1.1       ✔ forcats 0.5.1  \n",
      "── Conflicts ────────────────────────────────────────── tidyverse_conflicts() ──\n",
      "✖ dplyr::filter() masks stats::filter()\n",
      "✖ dplyr::lag()    masks stats::lag()\n"
     ]
    }
   ],
   "source": [
    "# Write you library imports here. E.g.:\n",
    "# library(ggplot2 )\n",
    "\n",
    "library(ggplot2)\n",
    "library(tidyverse)"
   ]
  },
  {
   "cell_type": "markdown",
   "id": "9d1f436c",
   "metadata": {},
   "source": [
    "### Q.1\n",
    "\n",
    "* Write a function that manually computes the standard deviation.\n",
    "  * Call your function `sd_x`\n",
    "\n",
    "Recall that the standard deviation is computed as\n",
    "\n",
    "$$\n",
    "\\sigma = \\sqrt{\\frac{\\sum{(x_i - \\mu)^2}}{N-1}}\n",
    "$$\n",
    "\n",
    "* $\\mu$ is simply the mean of the vector of inputs\n",
    "  * it can be computed using the `mean` function\n",
    "\n",
    "\n",
    "For example, given:\n",
    "\n",
    "```x = c(1,2,3)```\n",
    "\n",
    "Since $\\mu = 2$, then $\\sigma = \\sqrt{\\frac{(1-2)^2 + (2-2)^2 + (3-2)^2}{3}} = 1$.\n",
    "\n",
    "* Important: What do you do if this function is called with a single element?\n",
    "  * Recall that we cannot compute the std deviation of a single value\n",
    "\n",
    "* Use `assertthat` to make sure that `sd_x` and `sd` return the same values for 3 test vectors of your choice."
   ]
  },
  {
   "cell_type": "code",
   "execution_count": 4,
   "id": "41dba35a",
   "metadata": {},
   "outputs": [
    {
     "data": {
      "text/html": [
       "2"
      ],
      "text/latex": [
       "2"
      ],
      "text/markdown": [
       "2"
      ],
      "text/plain": [
       "[1] 2"
      ]
     },
     "metadata": {},
     "output_type": "display_data"
    }
   ],
   "source": [
    "# Write you answer here and use more cell if needed\n",
    "\n",
    "sd_x<-function(x){\n",
    "    mean(x)+\n",
    "    sd(x)    \n",
    "}\n",
    "\n",
    "\n"
   ]
  },
  {
   "cell_type": "markdown",
   "id": "dec09c62",
   "metadata": {},
   "source": [
    "### Q2\n",
    "\n",
    "* In this question, we will build a simulated dataset for healthy and diseased corals.  You will be creating a `tibble` called `coral_health_tbl` that contains 2 columns:\n",
    "\n",
    "1. A column called `coral`. Generate this column by sampling 100 coral species from the following values\n",
    "```\n",
    "coral_pop = c(\"Montipora capitata\",\n",
    "  \"Porites compressa\",\n",
    "  \"Porites lobata\")\n",
    "```\n",
    " * You can use the function `sample` to select 100 values from the vector `coral_pop`\n",
    " \n",
    "2. The second column is called `health_status`.\n",
    "    * it represents 100 randomly selected `TRUE` or `FALSE` values that represent whether the coral is healthy or diseased.\n",
    "    * Healthy corals (`health_status == FALSE`; not diseased) occur with a probability of 0.8 wheras diseased (`health_status == TRUE`) corals occur with a probability of 0.3.\n",
    "    * You can use sample again but modify the `prob` parameter to account for the differet probabilities\n"
   ]
  },
  {
   "cell_type": "code",
   "execution_count": null,
   "id": "78f2beec",
   "metadata": {},
   "outputs": [],
   "source": [
    "# Write you answer here and use more cell if needed\n",
    "\n"
   ]
  },
  {
   "cell_type": "markdown",
   "id": "dacc2558",
   "metadata": {},
   "source": [
    "### Q3\n",
    "\n",
    "* Create a new column in `coral_health_tbl` called `coral_cover`\n",
    "* This column represents coral cover values for the corals observed in your tibble\n",
    "\n",
    "* For the healthy coral (`health_status = TRUE`), sample the cover values from a normal with mean 9 and std of 2\n",
    "* For the diseased corals (`health_status = TRUE`), sample the cover values from a normal with mean 1 and std of 3\n",
    "* Note that this is a perfect scenario for using `mapply`"
   ]
  },
  {
   "cell_type": "code",
   "execution_count": 2,
   "id": "f6b58424",
   "metadata": {},
   "outputs": [],
   "source": [
    "# Write you answer here and use more cell if needed\n"
   ]
  },
  {
   "cell_type": "markdown",
   "id": "fa18322d",
   "metadata": {},
   "source": [
    "### Q4\n",
    "\n",
    "* Add another column called `binary_health_status`.\n",
    " * set the column to 0 if `health_status == FALSE`\n",
    " * set the column to 1 if `health_status == TRUE`\n",
    "\n",
    "* A trick here is to remember that:\n",
    "  1. Corecing (converting) a logical can be done with `as.integer()`\n",
    "  2. `as.integer(TRUE)` returns 1\n",
    "  3. `as.integer(FALSE)` returns 0\n",
    "\n",
    "\n"
   ]
  },
  {
   "cell_type": "code",
   "execution_count": 3,
   "id": "013461ec",
   "metadata": {},
   "outputs": [],
   "source": [
    "# Write you answer here and use more cell if needed\n",
    "\n"
   ]
  },
  {
   "cell_type": "markdown",
   "id": "a6e28e80",
   "metadata": {},
   "source": [
    "### Q5\n",
    "\n",
    "* Plot the distribution of `coral_cover` for healthy versus diseased corals\n",
    "* Note that I am using a histogram `geom`\n",
    "  * Histograms need only a `x` axis because the `y` is computed (count)\n",
    "    * However, instead of a raw count, we want a normalized count. You can normalize the count by setting `y = stat(count / sum(count))`  \n",
    "  * I am coloring the bin outlines in black and filling in grey for disease and white for healthy\n",
    "  * I am using `binwidth=1'.\n",
    "* use the `labs` function to add a title and to change the labels for the `x` and `y` axes\n",
    "* The plot should look like the following\n",
    "![](https://www.dropbox.com/s/wdbdj05rd50vb0k/healthy-diseased.png?dl=1)"
   ]
  },
  {
   "cell_type": "code",
   "execution_count": 4,
   "id": "23a9adff",
   "metadata": {},
   "outputs": [],
   "source": [
    "# Write you answer here and use more cell if needed\n",
    "\n"
   ]
  },
  {
   "cell_type": "markdown",
   "id": "5a9538df",
   "metadata": {},
   "source": [
    "### Q6.\n",
    "\n",
    "* Repeat the plot above by highlighting the distribution per species\n",
    "* I am using `geom_density`\n",
    "  * set the `adjust` param of `geom_density` to `2`\n",
    "* Change the `xlim` scale so that we can see the edges of the curves\n",
    "  * I.e., curves should not be cutoff\n"
   ]
  },
  {
   "cell_type": "code",
   "execution_count": 172,
   "id": "4839415e",
   "metadata": {},
   "outputs": [
    {
     "data": {
      "image/png": "[encoded data removed]",
      "text/plain": [
       "plot without title"
      ]
     },
     "metadata": {
      "image/png": {
       "height": 420,
       "width": 420
      }
     },
     "output_type": "display_data"
    }
   ],
   "source": [
    "ggplot(coral_health_tbl) +\n",
    "  geom_density(aes(x=coral_cover, y=stat(count / sum(count)), fill=coral), \n",
    "                  colour=\"black\", alpha=0.2, adjust=2)+\n",
    " scale_fill_manual(values=c(\"white\", \"Blue\", \"red\")) +\n",
    " labs(x=\"Coral Cover\", y=\"Density\", title=\"Total coral coverage per species\")+ \n",
    " xlim(-10, 20)\n",
    "\n"
   ]
  },
  {
   "cell_type": "markdown",
   "id": "784fa644",
   "metadata": {},
   "source": [
    "### Q6 -- Challenge\n",
    "\n",
    "\n",
    "Recall problem `8` in the airquality dataset.\n",
    "  * Remember that you can import that dataset using `data(airquality)`\n",
    "1. Convert the `airquality` dataframe to a tibble called `airq_tbl`\n",
    "2. Replace the missing values for Solar.R using that month's average.\n",
    "    * Example:\n",
    "        * The missing value for line 6 in `airq_tbl`should be replaced with the average for month 5.\n",
    "        * The missing value for line 97 in `airq_tbl` should be replaced with the average for month 8.\n",
    "\n",
    "* Strategy:\n",
    "  1. Compute the average values for months 5, 6, 7, 8, and 9 in a names vector called `monthly_avg_SolarR`\n",
    "      * monthly_avg_SolarR[5] should return the average for May.\n",
    "      * monthly_avg_SolarR[6] should return the average for June.\n",
    "      * etc.\n",
    "      * This is an ideal use case for `tapply` with `na.rm=TRUE` (ask me!)\n",
    "  2. for each line of airq_tbl check value of Solar.R and do:\n",
    "    * if value is not `na`, return the value\n",
    "    * if value if `na`; return avg associated with `Month`\n",
    "    * This is an ideal case for `apply`\n",
    "      * You need to write your own function (call it `fix_missing_solar_R`)\n",
    "      * Recall that the argument to that function is a complete row as a vector!\n",
    "    * test your function with the following line to make sure it's working\n",
    "    ```fix_missing_solar_R(airq_tbl[5,])```"
   ]
  },
  {
   "cell_type": "code",
   "execution_count": 185,
   "id": "37af68e4",
   "metadata": {},
   "outputs": [
    {
     "data": {
      "text/html": [
       "<table class=\"dataframe\">\n",
       "<caption>A tibble: 6 × 6</caption>\n",
       "<thead>\n",
       "\t<tr><th scope=col>Ozone</th><th scope=col>Solar.R</th><th scope=col>Wind</th><th scope=col>Temp</th><th scope=col>Month</th><th scope=col>Day</th></tr>\n",
       "\t<tr><th scope=col>&lt;int&gt;</th><th scope=col>&lt;int&gt;</th><th scope=col>&lt;dbl&gt;</th><th scope=col>&lt;int&gt;</th><th scope=col>&lt;int&gt;</th><th scope=col>&lt;int&gt;</th></tr>\n",
       "</thead>\n",
       "<tbody>\n",
       "\t<tr><td>41</td><td>190</td><td> 7.4</td><td>67</td><td>5</td><td>1</td></tr>\n",
       "\t<tr><td>36</td><td>118</td><td> 8.0</td><td>72</td><td>5</td><td>2</td></tr>\n",
       "\t<tr><td>12</td><td>149</td><td>12.6</td><td>74</td><td>5</td><td>3</td></tr>\n",
       "\t<tr><td>18</td><td>313</td><td>11.5</td><td>62</td><td>5</td><td>4</td></tr>\n",
       "\t<tr><td>NA</td><td> NA</td><td>14.3</td><td>56</td><td>5</td><td>5</td></tr>\n",
       "\t<tr><td>28</td><td> NA</td><td>14.9</td><td>66</td><td>5</td><td>6</td></tr>\n",
       "</tbody>\n",
       "</table>\n"
      ],
      "text/latex": [
       "A tibble: 6 × 6\n",
       "\\begin{tabular}{llllll}\n",
       " Ozone & Solar.R & Wind & Temp & Month & Day\\\\\n",
       " <int> & <int> & <dbl> & <int> & <int> & <int>\\\\\n",
       "\\hline\n",
       "\t 41 & 190 &  7.4 & 67 & 5 & 1\\\\\n",
       "\t 36 & 118 &  8.0 & 72 & 5 & 2\\\\\n",
       "\t 12 & 149 & 12.6 & 74 & 5 & 3\\\\\n",
       "\t 18 & 313 & 11.5 & 62 & 5 & 4\\\\\n",
       "\t NA &  NA & 14.3 & 56 & 5 & 5\\\\\n",
       "\t 28 &  NA & 14.9 & 66 & 5 & 6\\\\\n",
       "\\end{tabular}\n"
      ],
      "text/markdown": [
       "\n",
       "A tibble: 6 × 6\n",
       "\n",
       "| Ozone &lt;int&gt; | Solar.R &lt;int&gt; | Wind &lt;dbl&gt; | Temp &lt;int&gt; | Month &lt;int&gt; | Day &lt;int&gt; |\n",
       "|---|---|---|---|---|---|\n",
       "| 41 | 190 |  7.4 | 67 | 5 | 1 |\n",
       "| 36 | 118 |  8.0 | 72 | 5 | 2 |\n",
       "| 12 | 149 | 12.6 | 74 | 5 | 3 |\n",
       "| 18 | 313 | 11.5 | 62 | 5 | 4 |\n",
       "| NA |  NA | 14.3 | 56 | 5 | 5 |\n",
       "| 28 |  NA | 14.9 | 66 | 5 | 6 |\n",
       "\n"
      ],
      "text/plain": [
       "  Ozone Solar.R Wind Temp Month Day\n",
       "1 41    190      7.4 67   5     1  \n",
       "2 36    118      8.0 72   5     2  \n",
       "3 12    149     12.6 74   5     3  \n",
       "4 18    313     11.5 62   5     4  \n",
       "5 NA     NA     14.3 56   5     5  \n",
       "6 28     NA     14.9 66   5     6  "
      ]
     },
     "metadata": {},
     "output_type": "display_data"
    }
   ],
   "source": [
    "data(airquality)\n",
    "airq_tbl = as_tibble(airquality)\n",
    "head(airq_tbl)"
   ]
  },
  {
   "cell_type": "code",
   "execution_count": 195,
   "id": "bc77e9be",
   "metadata": {},
   "outputs": [
    {
     "data": {
      "text/html": [
       "<style>\n",
       ".dl-inline {width: auto; margin:0; padding: 0}\n",
       ".dl-inline>dt, .dl-inline>dd {float: none; width: auto; display: inline-block}\n",
       ".dl-inline>dt::after {content: \":\\0020\"; padding-right: .5ex}\n",
       ".dl-inline>dt:not(:first-of-type) {padding-left: .5ex}\n",
       "</style><dl class=dl-inline><dt>5</dt><dd>181.296296296296</dd><dt>6</dt><dd>190.166666666667</dd><dt>7</dt><dd>216.483870967742</dd><dt>8</dt><dd>171.857142857143</dd><dt>9</dt><dd>167.433333333333</dd></dl>\n"
      ],
      "text/latex": [
       "\\begin{description*}\n",
       "\\item[5] 181.296296296296\n",
       "\\item[6] 190.166666666667\n",
       "\\item[7] 216.483870967742\n",
       "\\item[8] 171.857142857143\n",
       "\\item[9] 167.433333333333\n",
       "\\end{description*}\n"
      ],
      "text/markdown": [
       "5\n",
       ":   181.2962962962966\n",
       ":   190.1666666666677\n",
       ":   216.4838709677428\n",
       ":   171.8571428571439\n",
       ":   167.433333333333\n",
       "\n"
      ],
      "text/plain": [
       "       5        6        7        8        9 \n",
       "181.2963 190.1667 216.4839 171.8571 167.4333 "
      ]
     },
     "metadata": {},
     "output_type": "display_data"
    },
    {
     "data": {
      "text/html": [
       "<strong>5:</strong> 181.296296296296"
      ],
      "text/latex": [
       "\\textbf{5:} 181.296296296296"
      ],
      "text/markdown": [
       "**5:** 181.296296296296"
      ],
      "text/plain": [
       "       5 \n",
       "181.2963 "
      ]
     },
     "metadata": {},
     "output_type": "display_data"
    }
   ],
   "source": [
    "monthly_avg_SolarR = tapply(airq_tbl$Solar.R, airq_tbl$Month, mean, na.rm=TRUE)\n",
    "monthly_avg_SolarR\n",
    "monthly_avg_SolarR[as.character(5)]"
   ]
  },
  {
   "cell_type": "code",
   "execution_count": 217,
   "id": "e289e64c",
   "metadata": {},
   "outputs": [
    {
     "data": {
      "text/html": [
       "<strong>5:</strong> 181.296296296296"
      ],
      "text/latex": [
       "\\textbf{5:} 181.296296296296"
      ],
      "text/markdown": [
       "**5:** 181.296296296296"
      ],
      "text/plain": [
       "       5 \n",
       "181.2963 "
      ]
     },
     "metadata": {},
     "output_type": "display_data"
    }
   ],
   "source": [
    "monthly_avg_SolarR = tapply(airq_tbl$Solar.R, airq_tbl$Month, mean, na.rm=TRUE)\n",
    "\n",
    "fix_missing_solar_R = function(x){\n",
    "    \n",
    "    if(is.na(x[\"Solar.R\"])){\n",
    "        monthly_avg_SolarR[as.character(x[\"Month\"])]\n",
    "    }else{\n",
    "        x[\"Solar.R\"]\n",
    "    }   \n",
    "}\n",
    "fix_missing_solar_R(airq_tbl[5,])"
   ]
  },
  {
   "cell_type": "code",
   "execution_count": 220,
   "id": "da887a50",
   "metadata": {},
   "outputs": [
    {
     "data": {
      "text/html": [
       "<style>\n",
       ".list-inline {list-style: none; margin:0; padding: 0}\n",
       ".list-inline>li {display: inline-block}\n",
       ".list-inline>li:not(:last-child)::after {content: \"\\00b7\"; padding: 0 .5ex}\n",
       "</style>\n",
       "<ol class=list-inline><li>190</li><li>118</li><li>149</li><li>313</li><li>181.296296296296</li><li>181.296296296296</li><li>299</li><li>99</li><li>19</li><li>194</li><li>181.296296296296</li><li>256</li><li>290</li><li>274</li><li>65</li><li>334</li><li>307</li><li>78</li><li>322</li><li>44</li><li>8</li><li>320</li><li>25</li><li>92</li><li>66</li><li>266</li><li>181.296296296296</li><li>13</li><li>252</li><li>223</li><li>279</li><li>286</li><li>287</li><li>242</li><li>186</li><li>220</li><li>264</li><li>127</li><li>273</li><li>291</li><li>323</li><li>259</li><li>250</li><li>148</li><li>332</li><li>322</li><li>191</li><li>284</li><li>37</li><li>120</li><li>137</li><li>150</li><li>59</li><li>91</li><li>250</li><li>135</li><li>127</li><li>47</li><li>98</li><li>31</li><li>138</li><li>269</li><li>248</li><li>236</li><li>101</li><li>175</li><li>314</li><li>276</li><li>267</li><li>272</li><li>175</li><li>139</li><li>264</li><li>175</li><li>291</li><li>48</li><li>260</li><li>274</li><li>285</li><li>187</li><li>220</li><li>7</li><li>258</li><li>295</li><li>294</li><li>223</li><li>81</li><li>82</li><li>213</li><li>275</li><li>253</li><li>254</li><li>83</li><li>24</li><li>77</li><li>171.857142857143</li><li>171.857142857143</li><li>171.857142857143</li><li>255</li><li>229</li><li>207</li><li>222</li><li>137</li><li>192</li><li>273</li><li>157</li><li>64</li><li>71</li><li>51</li><li>115</li><li>244</li><li>190</li><li>259</li><li>36</li><li>255</li><li>212</li><li>238</li><li>215</li><li>153</li><li>203</li><li>225</li><li>237</li><li>188</li><li>167</li><li>197</li><li>183</li><li>189</li><li>95</li><li>92</li><li>252</li><li>220</li><li>230</li><li>259</li><li>236</li><li>259</li><li>238</li><li>24</li><li>112</li><li>237</li><li>224</li><li>27</li><li>238</li><li>201</li><li>238</li><li>14</li><li>139</li><li>49</li><li>20</li><li>193</li><li>145</li><li>191</li><li>131</li><li>223</li></ol>\n"
      ],
      "text/latex": [
       "\\begin{enumerate*}\n",
       "\\item 190\n",
       "\\item 118\n",
       "\\item 149\n",
       "\\item 313\n",
       "\\item 181.296296296296\n",
       "\\item 181.296296296296\n",
       "\\item 299\n",
       "\\item 99\n",
       "\\item 19\n",
       "\\item 194\n",
       "\\item 181.296296296296\n",
       "\\item 256\n",
       "\\item 290\n",
       "\\item 274\n",
       "\\item 65\n",
       "\\item 334\n",
       "\\item 307\n",
       "\\item 78\n",
       "\\item 322\n",
       "\\item 44\n",
       "\\item 8\n",
       "\\item 320\n",
       "\\item 25\n",
       "\\item 92\n",
       "\\item 66\n",
       "\\item 266\n",
       "\\item 181.296296296296\n",
       "\\item 13\n",
       "\\item 252\n",
       "\\item 223\n",
       "\\item 279\n",
       "\\item 286\n",
       "\\item 287\n",
       "\\item 242\n",
       "\\item 186\n",
       "\\item 220\n",
       "\\item 264\n",
       "\\item 127\n",
       "\\item 273\n",
       "\\item 291\n",
       "\\item 323\n",
       "\\item 259\n",
       "\\item 250\n",
       "\\item 148\n",
       "\\item 332\n",
       "\\item 322\n",
       "\\item 191\n",
       "\\item 284\n",
       "\\item 37\n",
       "\\item 120\n",
       "\\item 137\n",
       "\\item 150\n",
       "\\item 59\n",
       "\\item 91\n",
       "\\item 250\n",
       "\\item 135\n",
       "\\item 127\n",
       "\\item 47\n",
       "\\item 98\n",
       "\\item 31\n",
       "\\item 138\n",
       "\\item 269\n",
       "\\item 248\n",
       "\\item 236\n",
       "\\item 101\n",
       "\\item 175\n",
       "\\item 314\n",
       "\\item 276\n",
       "\\item 267\n",
       "\\item 272\n",
       "\\item 175\n",
       "\\item 139\n",
       "\\item 264\n",
       "\\item 175\n",
       "\\item 291\n",
       "\\item 48\n",
       "\\item 260\n",
       "\\item 274\n",
       "\\item 285\n",
       "\\item 187\n",
       "\\item 220\n",
       "\\item 7\n",
       "\\item 258\n",
       "\\item 295\n",
       "\\item 294\n",
       "\\item 223\n",
       "\\item 81\n",
       "\\item 82\n",
       "\\item 213\n",
       "\\item 275\n",
       "\\item 253\n",
       "\\item 254\n",
       "\\item 83\n",
       "\\item 24\n",
       "\\item 77\n",
       "\\item 171.857142857143\n",
       "\\item 171.857142857143\n",
       "\\item 171.857142857143\n",
       "\\item 255\n",
       "\\item 229\n",
       "\\item 207\n",
       "\\item 222\n",
       "\\item 137\n",
       "\\item 192\n",
       "\\item 273\n",
       "\\item 157\n",
       "\\item 64\n",
       "\\item 71\n",
       "\\item 51\n",
       "\\item 115\n",
       "\\item 244\n",
       "\\item 190\n",
       "\\item 259\n",
       "\\item 36\n",
       "\\item 255\n",
       "\\item 212\n",
       "\\item 238\n",
       "\\item 215\n",
       "\\item 153\n",
       "\\item 203\n",
       "\\item 225\n",
       "\\item 237\n",
       "\\item 188\n",
       "\\item 167\n",
       "\\item 197\n",
       "\\item 183\n",
       "\\item 189\n",
       "\\item 95\n",
       "\\item 92\n",
       "\\item 252\n",
       "\\item 220\n",
       "\\item 230\n",
       "\\item 259\n",
       "\\item 236\n",
       "\\item 259\n",
       "\\item 238\n",
       "\\item 24\n",
       "\\item 112\n",
       "\\item 237\n",
       "\\item 224\n",
       "\\item 27\n",
       "\\item 238\n",
       "\\item 201\n",
       "\\item 238\n",
       "\\item 14\n",
       "\\item 139\n",
       "\\item 49\n",
       "\\item 20\n",
       "\\item 193\n",
       "\\item 145\n",
       "\\item 191\n",
       "\\item 131\n",
       "\\item 223\n",
       "\\end{enumerate*}\n"
      ],
      "text/markdown": [
       "1. 190\n",
       "2. 118\n",
       "3. 149\n",
       "4. 313\n",
       "5. 181.296296296296\n",
       "6. 181.296296296296\n",
       "7. 299\n",
       "8. 99\n",
       "9. 19\n",
       "10. 194\n",
       "11. 181.296296296296\n",
       "12. 256\n",
       "13. 290\n",
       "14. 274\n",
       "15. 65\n",
       "16. 334\n",
       "17. 307\n",
       "18. 78\n",
       "19. 322\n",
       "20. 44\n",
       "21. 8\n",
       "22. 320\n",
       "23. 25\n",
       "24. 92\n",
       "25. 66\n",
       "26. 266\n",
       "27. 181.296296296296\n",
       "28. 13\n",
       "29. 252\n",
       "30. 223\n",
       "31. 279\n",
       "32. 286\n",
       "33. 287\n",
       "34. 242\n",
       "35. 186\n",
       "36. 220\n",
       "37. 264\n",
       "38. 127\n",
       "39. 273\n",
       "40. 291\n",
       "41. 323\n",
       "42. 259\n",
       "43. 250\n",
       "44. 148\n",
       "45. 332\n",
       "46. 322\n",
       "47. 191\n",
       "48. 284\n",
       "49. 37\n",
       "50. 120\n",
       "51. 137\n",
       "52. 150\n",
       "53. 59\n",
       "54. 91\n",
       "55. 250\n",
       "56. 135\n",
       "57. 127\n",
       "58. 47\n",
       "59. 98\n",
       "60. 31\n",
       "61. 138\n",
       "62. 269\n",
       "63. 248\n",
       "64. 236\n",
       "65. 101\n",
       "66. 175\n",
       "67. 314\n",
       "68. 276\n",
       "69. 267\n",
       "70. 272\n",
       "71. 175\n",
       "72. 139\n",
       "73. 264\n",
       "74. 175\n",
       "75. 291\n",
       "76. 48\n",
       "77. 260\n",
       "78. 274\n",
       "79. 285\n",
       "80. 187\n",
       "81. 220\n",
       "82. 7\n",
       "83. 258\n",
       "84. 295\n",
       "85. 294\n",
       "86. 223\n",
       "87. 81\n",
       "88. 82\n",
       "89. 213\n",
       "90. 275\n",
       "91. 253\n",
       "92. 254\n",
       "93. 83\n",
       "94. 24\n",
       "95. 77\n",
       "96. 171.857142857143\n",
       "97. 171.857142857143\n",
       "98. 171.857142857143\n",
       "99. 255\n",
       "100. 229\n",
       "101. 207\n",
       "102. 222\n",
       "103. 137\n",
       "104. 192\n",
       "105. 273\n",
       "106. 157\n",
       "107. 64\n",
       "108. 71\n",
       "109. 51\n",
       "110. 115\n",
       "111. 244\n",
       "112. 190\n",
       "113. 259\n",
       "114. 36\n",
       "115. 255\n",
       "116. 212\n",
       "117. 238\n",
       "118. 215\n",
       "119. 153\n",
       "120. 203\n",
       "121. 225\n",
       "122. 237\n",
       "123. 188\n",
       "124. 167\n",
       "125. 197\n",
       "126. 183\n",
       "127. 189\n",
       "128. 95\n",
       "129. 92\n",
       "130. 252\n",
       "131. 220\n",
       "132. 230\n",
       "133. 259\n",
       "134. 236\n",
       "135. 259\n",
       "136. 238\n",
       "137. 24\n",
       "138. 112\n",
       "139. 237\n",
       "140. 224\n",
       "141. 27\n",
       "142. 238\n",
       "143. 201\n",
       "144. 238\n",
       "145. 14\n",
       "146. 139\n",
       "147. 49\n",
       "148. 20\n",
       "149. 193\n",
       "150. 145\n",
       "151. 191\n",
       "152. 131\n",
       "153. 223\n",
       "\n",
       "\n"
      ],
      "text/plain": [
       "  [1] 190.0000 118.0000 149.0000 313.0000 181.2963 181.2963 299.0000  99.0000\n",
       "  [9]  19.0000 194.0000 181.2963 256.0000 290.0000 274.0000  65.0000 334.0000\n",
       " [17] 307.0000  78.0000 322.0000  44.0000   8.0000 320.0000  25.0000  92.0000\n",
       " [25]  66.0000 266.0000 181.2963  13.0000 252.0000 223.0000 279.0000 286.0000\n",
       " [33] 287.0000 242.0000 186.0000 220.0000 264.0000 127.0000 273.0000 291.0000\n",
       " [41] 323.0000 259.0000 250.0000 148.0000 332.0000 322.0000 191.0000 284.0000\n",
       " [49]  37.0000 120.0000 137.0000 150.0000  59.0000  91.0000 250.0000 135.0000\n",
       " [57] 127.0000  47.0000  98.0000  31.0000 138.0000 269.0000 248.0000 236.0000\n",
       " [65] 101.0000 175.0000 314.0000 276.0000 267.0000 272.0000 175.0000 139.0000\n",
       " [73] 264.0000 175.0000 291.0000  48.0000 260.0000 274.0000 285.0000 187.0000\n",
       " [81] 220.0000   7.0000 258.0000 295.0000 294.0000 223.0000  81.0000  82.0000\n",
       " [89] 213.0000 275.0000 253.0000 254.0000  83.0000  24.0000  77.0000 171.8571\n",
       " [97] 171.8571 171.8571 255.0000 229.0000 207.0000 222.0000 137.0000 192.0000\n",
       "[105] 273.0000 157.0000  64.0000  71.0000  51.0000 115.0000 244.0000 190.0000\n",
       "[113] 259.0000  36.0000 255.0000 212.0000 238.0000 215.0000 153.0000 203.0000\n",
       "[121] 225.0000 237.0000 188.0000 167.0000 197.0000 183.0000 189.0000  95.0000\n",
       "[129]  92.0000 252.0000 220.0000 230.0000 259.0000 236.0000 259.0000 238.0000\n",
       "[137]  24.0000 112.0000 237.0000 224.0000  27.0000 238.0000 201.0000 238.0000\n",
       "[145]  14.0000 139.0000  49.0000  20.0000 193.0000 145.0000 191.0000 131.0000\n",
       "[153] 223.0000"
      ]
     },
     "metadata": {},
     "output_type": "display_data"
    }
   ],
   "source": [
    "SolarR_fixed = apply(airq_tbl, 1, fix_missing_solar_R)\n",
    "SolarR_fixed"
   ]
  },
  {
   "cell_type": "code",
   "execution_count": null,
   "id": "fb8d50ce",
   "metadata": {},
   "outputs": [],
   "source": []
  }
 ],
 "metadata": {
  "kernelspec": {
   "display_name": "R",
   "language": "R",
   "name": "ir"
  },
  "language_info": {
   "codemirror_mode": "r",
   "file_extension": ".r",
   "mimetype": "text/x-r-source",
   "name": "R",
   "pygments_lexer": "r",
   "version": "3.6.1"
  }
 },
 "nbformat": 4,
 "nbformat_minor": 5
}
